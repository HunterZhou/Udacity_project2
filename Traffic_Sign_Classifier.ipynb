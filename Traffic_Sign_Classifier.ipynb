{
 "cells": [
  {
   "cell_type": "markdown",
   "metadata": {},
   "source": [
    "# Self-Driving Car Engineer Nanodegree\n",
    "\n",
    "## Deep Learning\n",
    "\n",
    "## Project: Build a Traffic Sign Recognition Classifier\n",
    "\n",
    "In this notebook, a template is provided for you to implement your functionality in stages which is required to successfully complete this project. If additional code is required that cannot be included in the notebook, be sure that the Python code is successfully imported and included in your submission, if necessary. Sections that begin with **'Implementation'** in the header indicate where you should begin your implementation for your project. Note that some sections of implementation are optional, and will be marked with **'Optional'** in the header.\n",
    "\n",
    "In addition to implementing code, there will be questions that you must answer which relate to the project and your implementation. Each section where you will answer a question is preceded by a **'Question'** header. Carefully read each question and provide thorough answers in the following text boxes that begin with **'Answer:'**. Your project submission will be evaluated based on your answers to each of the questions and the implementation you provide.\n",
    "\n",
    ">**Note:** Code and Markdown cells can be executed using the **Shift + Enter** keyboard shortcut. In addition, Markdown cells can be edited by typically double-clicking the cell to enter edit mode."
   ]
  },
  {
   "cell_type": "markdown",
   "metadata": {},
   "source": [
    "---\n",
    "## Step 0: Load The Data"
   ]
  },
  {
   "cell_type": "code",
   "execution_count": 1,
   "metadata": {
    "collapsed": false
   },
   "outputs": [
    {
     "name": "stdout",
     "output_type": "stream",
     "text": [
      "feature shape: (39209, 32, 32, 3)\n",
      "y_train data is :(39209,) \n",
      "y_test data size is :(12630,)\n",
      "X_test data size is (12630, 32, 32, 3)\n"
     ]
    }
   ],
   "source": [
    "# Load pickled data\n",
    "import pickle\n",
    "\n",
    "# TODO: Fill this in based on where you saved the training and testing data\n",
    "\n",
    "training_file = 'train.p'\n",
    "testing_file = 'test.p'\n",
    "\n",
    "with open(training_file, mode='rb') as f:\n",
    "    train = pickle.load(f)\n",
    "with open(testing_file, mode='rb') as f:\n",
    "    test = pickle.load(f)\n",
    "    \n",
    "X_train, y_train = train['features'], train['labels']\n",
    "X_test, y_test = test['features'], test['labels']\n",
    "print(\"feature shape: {}\".format(X_train.shape))\n",
    "print(\"y_train data is :{} \".format(y_train.shape))\n",
    "print(\"y_test data size is :{}\".format(y_test.shape))\n",
    "print(\"X_test data size is {}\".format(X_test.shape))\n"
   ]
  },
  {
   "cell_type": "markdown",
   "metadata": {},
   "source": [
    "---\n",
    "\n",
    "## Step 1: Dataset Summary & Exploration\n",
    "\n",
    "The pickled data is a dictionary with 4 key/value pairs:\n",
    "\n",
    "- `'features'` is a 4D array containing raw pixel data of the traffic sign images, (num examples, width, height, channels).\n",
    "- `'labels'` is a 2D array containing the label/class id of the traffic sign. The file `signnames.csv` contains id -> name mappings for each id.\n",
    "- `'sizes'` is a list containing tuples, (width, height) representing the the original width and height the image.\n",
    "- `'coords'` is a list containing tuples, (x1, y1, x2, y2) representing coordinates of a bounding box around the sign in the image. **THESE COORDINATES ASSUME THE ORIGINAL IMAGE. THE PICKLED DATA CONTAINS RESIZED VERSIONS (32 by 32) OF THESE IMAGES**\n",
    "\n",
    "Complete the basic data summary below."
   ]
  },
  {
   "cell_type": "code",
   "execution_count": 2,
   "metadata": {
    "collapsed": false
   },
   "outputs": [
    {
     "name": "stdout",
     "output_type": "stream",
     "text": [
      "Number of training examples = 39209\n",
      "Number of testing examples = 12630\n",
      "Image data shape = 32\n",
      "Number of classes = 43\n"
     ]
    }
   ],
   "source": [
    "### Replace each question mark with the appropriate value.\n",
    "\n",
    "# TODO: Number of training examples\n",
    "n_train = 39209\n",
    "\n",
    "# TODO: Number of testing examples.\n",
    "n_test = 12630\n",
    "\n",
    "# TODO: What's the shape of an traffic sign image?\n",
    "image_shape = 32\n",
    "\n",
    "# TODO: How many unique classes/labels there are in the dataset.\n",
    "n_classes = 43\n",
    "\n",
    "print(\"Number of training examples =\", n_train)\n",
    "print(\"Number of testing examples =\", n_test)\n",
    "print(\"Image data shape =\", image_shape)\n",
    "print(\"Number of classes =\", n_classes)"
   ]
  },
  {
   "cell_type": "markdown",
   "metadata": {},
   "source": [
    "Visualize the German Traffic Signs Dataset using the pickled file(s). This is open ended, suggestions include: plotting traffic sign images, plotting the count of each sign, etc.\n",
    "\n",
    "The [Matplotlib](http://matplotlib.org/) [examples](http://matplotlib.org/examples/index.html) and [gallery](http://matplotlib.org/gallery.html) pages are a great resource for doing visualizations in Python.\n",
    "\n",
    "**NOTE:** It's recommended you start with something simple first. If you wish to do more, come back to it after you've completed the rest of the sections."
   ]
  },
  {
   "cell_type": "code",
   "execution_count": 3,
   "metadata": {
    "collapsed": false
   },
   "outputs": [
    {
     "data": {
      "text/plain": [
       "<matplotlib.image.AxesImage at 0x7f7ed6a28630>"
      ]
     },
     "execution_count": 3,
     "metadata": {},
     "output_type": "execute_result"
    },
    {
     "data": {
      "image/png": "[encoded data removed]",
      "text/plain": [
       "<matplotlib.figure.Figure at 0x7f7ef8723048>"
      ]
     },
     "metadata": {},
     "output_type": "display_data"
    }
   ],
   "source": [
    "### Data exploration visualization goes here.\n",
    "### Feel free to use as many code cells as needed.\n",
    "import matplotlib.pyplot as plt\n",
    "import numpy as np\n",
    "# Visualizations will be shown in the notebook.\n",
    "%matplotlib inline\n",
    "image = X_train[30630]\n",
    "plt.figure(figsize=(1,1))\n",
    "plt.imshow(image)"
   ]
  },
  {
   "cell_type": "markdown",
   "metadata": {},
   "source": [
    "##### ----\n",
    "\n",
    "## Step 2: Design and Test a Model Architecture\n",
    "\n",
    "Design and implement a deep learning model that learns to recognize traffic signs. Train and test your model on the [German Traffic Sign Dataset](http://benchmark.ini.rub.de/?section=gtsrb&subsection=dataset).\n",
    "\n",
    "There are various aspects to consider when thinking about this problem:\n",
    "\n",
    "- Neural network architecture\n",
    "- Play around preprocessing techniques (normalization, rgb to grayscale, etc)\n",
    "- Number of examples per label (some have more than others).\n",
    "- Generate fake data.\n",
    "\n",
    "Here is an example of a [published baseline model on this problem](http://yann.lecun.com/exdb/publis/pdf/sermanet-ijcnn-11.pdf). It's not required to be familiar with the approach used in the paper but, it's good practice to try to read papers like these.\n",
    "\n",
    "**NOTE:** The LeNet-5 implementation shown in the [classroom](https://classroom.udacity.com/nanodegrees/nd013/parts/fbf77062-5703-404e-b60c-95b78b2f3f9e/modules/6df7ae49-c61c-4bb2-a23e-6527e69209ec/lessons/601ae704-1035-4287-8b11-e2c2716217ad/concepts/d4aca031-508f-4e0b-b493-e7b706120f81) at the end of the CNN lesson is a solid starting point. You'll have to change the number of classes and possibly the preprocessing, but aside from that it's plug and play!"
   ]
  },
  {
   "cell_type": "markdown",
   "metadata": {},
   "source": [
    "### Implementation\n",
    "\n",
    "Use the code cell (or multiple code cells, if necessary) to implement the first step of your project. Once you have completed your implementation and are satisfied with the results, be sure to thoroughly answer the questions that follow."
   ]
  },
  {
   "cell_type": "code",
   "execution_count": 4,
   "metadata": {
    "collapsed": false
   },
   "outputs": [
    {
     "name": "stdout",
     "output_type": "stream",
     "text": [
      "x_train shape is :(39209, 32, 32, 3)\n",
      "y_train shape is :(39209, 43)\n",
      "X_test shape is :(12630, 32, 32, 3)\n"
     ]
    }
   ],
   "source": [
    "### Preprocess the data here.\n",
    "### Feel free to use as many code cells as needed.\n",
    "# apply onehot, shuffle the data\n",
    "\n",
    "from sklearn.utils import shuffle\n",
    "from sklearn.preprocessing import OneHotEncoder\n",
    "\n",
    "# low predication accuracy on rgb images, so giving gray scale image for a shot\n",
    "#import cv2\n",
    "#X_train = np.mean(X_train, axis=3,dtype=int)\n",
    "#X_train.resize([X_train.shape[0],X_train.shape[1],X_train.shape[2],1])\n",
    "\n",
    "#X_test = np.mean(X_test, axis=3,dtype=int)\n",
    "#X_test.resize([X_test.shape[0],X_test.shape[1],X_test.shape[2],1])\n",
    "# end of rgb to gray preprocessing\n",
    "\n",
    "def ONEHOT_encode(label,classes):\n",
    "    OHC = OneHotEncoder()    \n",
    "    ohc = OHC.fit(np.arange(classes).reshape(-1, 1))\n",
    "    onehot_labels = ohc.transform(label.reshape(-1, 1)).toarray()\n",
    "    return onehot_labels\n",
    "\n",
    "\n",
    "\n",
    "X_train, y_train = shuffle(X_train, y_train)\n",
    "X_train = X_train/255-0.5\n",
    "X_train = X_train.astype('float32')\n",
    "\n",
    "y_train = ONEHOT_encode(y_train,43)\n",
    "y_test = ONEHOT_encode(y_test,43)\n",
    "\n",
    "print(\"x_train shape is :{}\".format(X_train.shape))\n",
    "print(\"y_train shape is :{}\".format(y_train.shape))\n",
    "print(\"X_test shape is :{}\".format(X_test.shape))\n",
    "\n",
    "\n"
   ]
  },
  {
   "cell_type": "markdown",
   "metadata": {},
   "source": [
    "### Question 1 \n",
    "\n",
    "_Describe how you preprocessed the data. Why did you choose that technique?_"
   ]
  },
  {
   "cell_type": "markdown",
   "metadata": {},
   "source": [
    "Answer: I used one-hot encoder on the labels to calculate the cost easily, but later on realized it's already done in the training section so I commented my code out. Then I decide to shuffle the data, because I discovered the the training set grouped the image for a same sign together. The pixel data are also normalized to from 0.0-1.0 to make the computation easier."
   ]
  },
  {
   "cell_type": "code",
   "execution_count": 5,
   "metadata": {
    "collapsed": false
   },
   "outputs": [
    {
     "name": "stdout",
     "output_type": "stream",
     "text": [
      "validation set size :3921 \n",
      "validation set size :3921 \n",
      "new training set size :35288 \n"
     ]
    }
   ],
   "source": [
    "### Generate data additional data (OPTIONAL!)\n",
    "### and split the data into training/validation/testing sets here.\n",
    "### Feel free to use as many code cells as needed.\n",
    "from sklearn.model_selection import train_test_split\n",
    "X_train, X_validation, y_train, y_validation = train_test_split(X_train, y_train, test_size = 0.1, random_state = 0)\n",
    "\n",
    "#X_validation = X_train[36000:39208] I made this code to manually devide the training set and validation set, but later on \n",
    "#y_validation = y_train[36000:39208] learned to use split from the forum.\n",
    "#X_train = X_train[0:35999]\n",
    "#y_train = y_train[0:35999]\n",
    "\n",
    "print(\"validation set size :{} \".format(len(X_validation)))\n",
    "print(\"validation set size :{} \".format(len(y_validation)))\n",
    "print(\"new training set size :{} \".format(len(X_train)))"
   ]
  },
  {
   "cell_type": "markdown",
   "metadata": {},
   "source": [
    "# Question 2\n",
    "\n",
    "_Describe how you set up the training, validation and testing data for your model. **Optional**: If you generated additional data, how did you generate the data? Why did you generate the data? What are the differences in the new dataset (with generated data) from the original dataset?_"
   ]
  },
  {
   "cell_type": "markdown",
   "metadata": {},
   "source": [
    "**Answer:** my training set is desinged to have 35999 samples, validation data set contains 3208 samples.The testing data remain the same which is the x_test and y_test"
   ]
  },
  {
   "cell_type": "code",
   "execution_count": 6,
   "metadata": {
    "collapsed": false,
    "scrolled": true
   },
   "outputs": [],
   "source": [
    "### Define your architecture here.\n",
    "### Feel free to use as many code cells as needed.\n",
    "import tensorflow as tf\n",
    "from tensorflow.contrib.layers import flatten\n",
    "\n",
    "\n",
    "def LeNet(x):    \n",
    "    # Hyperparameters\n",
    "    mu = 0\n",
    "    sigma = 0.1\n",
    "    \n",
    "    # SOLUTION: Layer 1: Convolutional. Input = 32x32x3. Output = 28x28x6.\n",
    "    conv1_W = tf.Variable(tf.truncated_normal(shape=(5, 5, 3, 6), mean = mu, stddev = sigma))\n",
    "    conv1_b = tf.Variable(tf.zeros(6))\n",
    "    conv1   = tf.nn.conv2d(x, conv1_W, strides=[1, 1, 1, 1], padding='VALID') + conv1_b\n",
    "\n",
    "    # SOLUTION: Activation.\n",
    "    conv1 = tf.nn.relu(conv1)\n",
    "\n",
    "    # SOLUTION: Pooling. Input = 28x28x6. Output = 14x14x6.\n",
    "    conv1 = tf.nn.max_pool(conv1, ksize=[1, 2, 2, 1], strides=[1, 2, 2, 1], padding='VALID')\n",
    "\n",
    "    # SOLUTION: Layer 2: Convolutional. Output = 10x10x16.\n",
    "    conv2_W = tf.Variable(tf.truncated_normal(shape=(5, 5, 6, 16), mean = mu, stddev = sigma))\n",
    "    conv2_b = tf.Variable(tf.zeros(16))\n",
    "    conv2   = tf.nn.conv2d(conv1, conv2_W, strides=[1, 1, 1, 1], padding='VALID') + conv2_b\n",
    "    \n",
    "    # SOLUTION: Activation.\n",
    "    conv2 = tf.nn.relu(conv2)\n",
    "\n",
    "    # SOLUTION: Pooling. Input = 10x10x16. Output = 5x5x16.\n",
    "    conv2 = tf.nn.max_pool(conv2, ksize=[1, 2, 2, 1], strides=[1, 2, 2, 1], padding='VALID')\n",
    "\n",
    "    # SOLUTION: Flatten. Input = 5x5x16. Output = 400.\n",
    "    fc0   = flatten(conv2)\n",
    "    \n",
    "    # SOLUTION: Layer 3: Fully Connected. Input = 400. Output = 120.\n",
    "    fc1_W = tf.Variable(tf.truncated_normal(shape=(400, 120), mean = mu, stddev = sigma))\n",
    "    fc1_b = tf.Variable(tf.zeros(120))\n",
    "    fc1   = tf.matmul(fc0, fc1_W) + fc1_b\n",
    "    \n",
    "    # SOLUTION: Activation.\n",
    "    fc1    = tf.nn.relu(fc1)\n",
    "\n",
    "    # SOLUTION: Layer 4: Fully Connected. Input = 120. Output = 84.\n",
    "    fc2_W  = tf.Variable(tf.truncated_normal(shape=(120, 84), mean = mu, stddev = sigma))\n",
    "    fc2_b  = tf.Variable(tf.zeros(84))\n",
    "    fc2    = tf.matmul(fc1, fc2_W) + fc2_b\n",
    "    \n",
    "    # SOLUTION: Activation.\n",
    "    fc2    = tf.nn.relu(fc2)\n",
    "\n",
    "    # SOLUTION: Layer 5: Fully Connected. Input = 84. Output = 43.\n",
    "    fc3_W  = tf.Variable(tf.truncated_normal(shape=(84, 43), mean = mu, stddev = sigma))\n",
    "    fc3_b  = tf.Variable(tf.zeros(43))\n",
    "    logits = tf.matmul(fc2, fc3_W) + fc3_b\n",
    "    \n",
    "    return logits"
   ]
  },
  {
   "cell_type": "markdown",
   "metadata": {},
   "source": [
    "# Question 3\n",
    "\n",
    "_What does your final architecture look like? (Type of model, layers, sizes, connectivity, etc.)  For reference on how to build a deep neural network using TensorFlow, see [Deep Neural Network in TensorFlow\n",
    "]\n"
   ]
  },
  {
   "cell_type": "markdown",
   "metadata": {},
   "source": [
    "**Answer:** I simply followed the Lenet model which comes with 5 layer (2 convolutional layers and 3 output layers). The size of the input layer is 32x32x3, in layer 1 the size turns to 28x28x6 and is changed to 14x14x6 after max-pooling, in layer 2 the size turns to 10x10x16 and is changed to 5x5x16 after max-pooling. In layer 3 which is the first fully connected layer, there are 120 outputs, layer 4 gives 84 outputs and the last layer has 43 outputs which is the number of classes."
   ]
  },
  {
   "cell_type": "code",
   "execution_count": 7,
   "metadata": {
    "collapsed": false
   },
   "outputs": [
    {
     "name": "stdout",
     "output_type": "stream",
     "text": [
      "train sample: 35288\n",
      "Training...\n",
      "\n",
      "EPOCH 1 ...\n",
      "Validation Accuracy = 0.848\n",
      "\n",
      "EPOCH 2 ...\n",
      "Validation Accuracy = 0.930\n",
      "\n",
      "EPOCH 3 ...\n",
      "Validation Accuracy = 0.957\n",
      "\n",
      "EPOCH 4 ...\n",
      "Validation Accuracy = 0.960\n",
      "\n",
      "EPOCH 5 ...\n",
      "Validation Accuracy = 0.968\n",
      "\n",
      "EPOCH 6 ...\n",
      "Validation Accuracy = 0.977\n",
      "\n",
      "EPOCH 7 ...\n",
      "Validation Accuracy = 0.978\n",
      "\n",
      "EPOCH 8 ...\n",
      "Validation Accuracy = 0.978\n",
      "\n",
      "EPOCH 9 ...\n",
      "Validation Accuracy = 0.982\n",
      "\n",
      "EPOCH 10 ...\n",
      "Validation Accuracy = 0.974\n",
      "\n",
      "EPOCH 11 ...\n",
      "Validation Accuracy = 0.988\n",
      "\n",
      "EPOCH 12 ...\n",
      "Validation Accuracy = 0.986\n",
      "\n",
      "EPOCH 13 ...\n",
      "Validation Accuracy = 0.988\n",
      "\n",
      "EPOCH 14 ...\n",
      "Validation Accuracy = 0.986\n",
      "\n",
      "EPOCH 15 ...\n",
      "Validation Accuracy = 0.986\n",
      "\n",
      "Model saved\n"
     ]
    }
   ],
   "source": [
    "### Train your model here.\n",
    "### Feel free to use as many code cells as needed.\n",
    "\n",
    "\n",
    "# create place holder for input images and labels\n",
    "x = tf.placeholder(tf.float32, (None, 32, 32, 3))\n",
    "y = tf.placeholder(tf.int32, (None))\n",
    "#one_hot_y = tf.one_hot(y, 43)\n",
    "\n",
    "# set learning rate, epochs and batch size\n",
    "\n",
    "EPOCHS = 15\n",
    "BATCH_SIZE = 100\n",
    "rate = 0.001\n",
    "\n",
    "logits = LeNet(x)\n",
    "# cross_entropy = tf.nn.softmax_cross_entropy_with_logits(logits, one_hot_y)\n",
    "cross_entropy = tf.nn.softmax_cross_entropy_with_logits(logits, y)\n",
    "loss_operation = tf.reduce_mean(cross_entropy)\n",
    "optimizer = tf.train.AdamOptimizer(learning_rate = rate)\n",
    "training_operation = optimizer.minimize(loss_operation)\n",
    "Softmax_output = tf.nn.softmax(logits)\n",
    "\n",
    "# model evaluation\n",
    "# correct_prediction = tf.equal(tf.argmax(logits, 1), tf.argmax(one_hot_y, 1))\n",
    "correct_prediction = tf.equal(tf.argmax(logits, 1), tf.argmax(y, 1))\n",
    "accuracy_operation = tf.reduce_mean(tf.cast(correct_prediction, tf.float32))\n",
    "saver = tf.train.Saver()\n",
    "\n",
    "def evaluate(X_data, y_data):\n",
    "    num_examples = len(X_data)\n",
    "    total_accuracy = 0\n",
    "    sess = tf.get_default_session()\n",
    "    for offset in range(0, num_examples, BATCH_SIZE):\n",
    "        batch_x, batch_y = X_data[offset:offset+BATCH_SIZE], y_data[offset:offset+BATCH_SIZE]\n",
    "        accuracy = sess.run(accuracy_operation, feed_dict={x: batch_x, y: batch_y})\n",
    "        total_accuracy += (accuracy * len(batch_x))\n",
    "    return total_accuracy / num_examples\n",
    "\n",
    "# train the model\n",
    "\n",
    "\n",
    "with tf.Session() as sess:\n",
    "    sess.run(tf.global_variables_initializer())\n",
    "    num_examples = len(X_train)\n",
    "    print(\"train sample: {}\".format(len(X_train)))\n",
    "    print(\"Training...\")\n",
    "    print()\n",
    "    for i in range(EPOCHS):\n",
    "        X_train, y_train = shuffle(X_train, y_train)\n",
    "        for offset in range(0, num_examples, BATCH_SIZE):\n",
    "            end = offset + BATCH_SIZE\n",
    "            batch_x, batch_y = X_train[offset:end], y_train[offset:end]\n",
    "            sess.run(training_operation, feed_dict={x: batch_x, y: batch_y})\n",
    "            \n",
    "        validation_accuracy = evaluate(X_validation, y_validation)\n",
    "        print(\"EPOCH {} ...\".format(i+1))\n",
    "        print(\"Validation Accuracy = {:.3f}\".format(validation_accuracy))\n",
    "        print()\n",
    "        \n",
    "    saver.save(sess, 'lenet')\n",
    "    print(\"Model saved\")\n",
    "\n"
   ]
  },
  {
   "cell_type": "markdown",
   "metadata": {},
   "source": [
    "### Question 4\n",
    "\n",
    "_How did you train your model? (Type of optimizer, batch size, epochs, hyperparameters, etc.)_\n"
   ]
  },
  {
   "cell_type": "markdown",
   "metadata": {},
   "source": [
    "**Answer:** I basically followed the LeNet architecture, didn't really add any other techniques. I chose Relu as the activation function to simplify the calculation as it removes all the negative value. The optimization technique used is AdamOptimizer, in my understanding it automatically takes care of the tuning of hpyer parameters and will save me lots of time in tuning. Compared to SGD, it also helps to converge the lost quicker, so I think for this project it can be a good fit. The batch size and epoch size are 128 and 10 respectively after multiple trials. But based on the results of experiments, an increased number of epoch will not necessarily increase the model accuracy. Mean value is set to be 0 with a sigma of 0.1 "
   ]
  },
  {
   "cell_type": "markdown",
   "metadata": {},
   "source": [
    "### Question 5\n",
    "\n",
    "\n",
    "_What approach did you take in coming up with a solution to this problem? It may have been a process of trial and error, in which case, outline the steps you took to get to the final solution and why you chose those steps. Perhaps your solution involved an already well known implementation or architecture. In this case, discuss why you think this is suitable for the current problem._"
   ]
  },
  {
   "cell_type": "markdown",
   "metadata": {},
   "source": [
    "**Answer:** My solution is LeNet with preprocessing steps. I started with trial and error, as being said already the epochs helps within 5 iterations but increasing the iterations from 5 to a larger number doesn't increase the accuracy a lot. A lower learning rate indeed increased the model accuracy. Larger batch size gives me less accurate data in my tests."
   ]
  },
  {
   "cell_type": "markdown",
   "metadata": {},
   "source": [
    "---\n",
    "\n",
    "## Step 3: Test a Model on New Images\n",
    "\n",
    "Take several pictures of traffic signs that you find on the web or around you (at least five), and run them through your classifier on your computer to produce example results. The classifier might not recognize some local signs but it could prove interesting nonetheless.\n",
    "\n",
    "You may find `signnames.csv` useful as it contains mappings from the class id (integer) to the actual sign name."
   ]
  },
  {
   "cell_type": "markdown",
   "metadata": {},
   "source": [
    "### Implementation\n",
    "\n",
    "Use the code cell (or multiple code cells, if necessary) to implement the first step of your project. Once you have completed your implementation and are satisfied with the results, be sure to thoroughly answer the questions that follow."
   ]
  },
  {
   "cell_type": "code",
   "execution_count": 8,
   "metadata": {
    "collapsed": false
   },
   "outputs": [
    {
     "name": "stdout",
     "output_type": "stream",
     "text": [
      "X_test = (12630, 32, 32, 3)\n",
      "y_test = (12630, 43)\n",
      "Test Accuracy = 0.906\n"
     ]
    }
   ],
   "source": [
    "# test model on the test set first\n",
    "\n",
    "print(\"X_test = {}\".format(X_test.shape))\n",
    "print(\"y_test = {}\".format(y_test.shape))\n",
    "# X_test, y_test = shuffle(X_test, y_test)\n",
    "with tf.Session() as sess:\n",
    "    saver.restore(sess, tf.train.latest_checkpoint('.'))\n",
    "\n",
    "    test_accuracy = evaluate(X_test, y_test)\n",
    "    print(\"Test Accuracy = {:.3f}\".format(test_accuracy))\n"
   ]
  },
  {
   "cell_type": "code",
   "execution_count": 9,
   "metadata": {
    "collapsed": false
   },
   "outputs": [
    {
     "name": "stdout",
     "output_type": "stream",
     "text": [
      "(10, 32, 32, 3)\n",
      "(10, 43)\n"
     ]
    },
    {
     "data": {
      "text/plain": [
       "<matplotlib.image.AxesImage at 0x7f7eb2fdb6d8>"
      ]
     },
     "execution_count": 9,
     "metadata": {},
     "output_type": "execute_result"
    },
    {
     "data": {
      "image/png": "[encoded data removed]",
      "text/plain": [
       "<matplotlib.figure.Figure at 0x7f7eb842a7b8>"
      ]
     },
     "metadata": {},
     "output_type": "display_data"
    }
   ],
   "source": [
    "### Load the images and plot them here.\n",
    "### Feel free to use as many code cells as needed.\n",
    "import cv2\n",
    "import numpy as np\n",
    "image_all = []\n",
    "\n",
    "img1= cv2.imread(\"test_image/dangerouscurvetoleft.png\")\n",
    "img1 = cv2.cvtColor(img1, cv2.COLOR_BGR2RGB)\n",
    "#img1 = cv2.cvtColor(img1, cv2.COLOR_BGR2GRAY)\n",
    "img1 = cv2.resize(img1,(32,32))\n",
    "image_all.append(img1)\n",
    "\n",
    "img2= cv2.imread(\"test_image/dangerouscurvetoright.png\")\n",
    "img2 = cv2.cvtColor(img2, cv2.COLOR_BGR2RGB)\n",
    "#img2 = cv2.cvtColor(img2, cv2.COLOR_BGR2GRAY)\n",
    "img2 = cv2.resize(img2,(32,32))\n",
    "image_all.append(img2)\n",
    "\n",
    "img3= cv2.imread(\"test_image/generalcaution.png\")\n",
    "img3 = cv2.cvtColor(img3, cv2.COLOR_BGR2RGB)\n",
    "#img3 = cv2.cvtColor(img3, cv2.COLOR_BGR2GRAY)\n",
    "img3 = cv2.resize(img3,(32,32))\n",
    "image_all.append(img3)\n",
    "\n",
    "img4= cv2.imread(\"test_image/speedlimit50.png\")\n",
    "img4 = cv2.cvtColor(img4, cv2.COLOR_BGR2RGB)\n",
    "#img4 = cv2.cvtColor(img4, cv2.COLOR_BGR2GRAY)\n",
    "img4 = cv2.resize(img4,(32,32))\n",
    "image_all.append(img4)\n",
    "\n",
    "img5= cv2.imread(\"test_image/speedlimit30.jpeg\")\n",
    "img5 = cv2.cvtColor(img5, cv2.COLOR_BGR2RGB)\n",
    "#img5 = cv2.cvtColor(img5, cv2.COLOR_BGR2GRAY)\n",
    "img5 = cv2.resize(img5,(32,32))\n",
    "image_all.append(img5)\n",
    "\n",
    "img6= cv2.imread(\"test_image/speedlimit80.jpg\")\n",
    "img6 = cv2.cvtColor(img6, cv2.COLOR_BGR2RGB)\n",
    "#img6 = cv2.cvtColor(img6, cv2.COLOR_BGR2GRAY)\n",
    "img6 = cv2.resize(img6,(32,32))\n",
    "image_all.append(img6)\n",
    "\n",
    "img7= cv2.imread(\"test_image/stop1.jpg\")\n",
    "img7 = cv2.cvtColor(img7, cv2.COLOR_BGR2RGB)\n",
    "#img7 = cv2.cvtColor(img7, cv2.COLOR_BGR2GRAY)\n",
    "img7 = cv2.resize(img7,(32,32))\n",
    "image_all.append(img7)\n",
    "\n",
    "img8= cv2.imread(\"test_image/trafficsign.png\")\n",
    "img8 = cv2.cvtColor(img8, cv2.COLOR_BGR2RGB)\n",
    "#img8 = cv2.cvtColor(img8, cv2.COLOR_BGR2GRAY)\n",
    "img8 = cv2.resize(img8,(32,32))\n",
    "image_all.append(img8)\n",
    "\n",
    "img9= cv2.imread(\"test_image/noentry.jpeg\")\n",
    "img9 = cv2.cvtColor(img9, cv2.COLOR_BGR2RGB)\n",
    "#img9 = cv2.cvtColor(img9, cv2.COLOR_BGR2GRAY)\n",
    "img9 = cv2.resize(img9,(32,32))\n",
    "image_all.append(img9)\n",
    "\n",
    "img10= cv2.imread(\"test_image/yield.png\")\n",
    "img10 = cv2.cvtColor(img10, cv2.COLOR_BGR2RGB)\n",
    "#img10 = cv2.cvtColor(img10, cv2.COLOR_BGR2GRAY)\n",
    "img10 = cv2.resize(img10,(32,32))\n",
    "image_all.append(img10)\n",
    "\n",
    "Z_test = np.asarray(image_all)\n",
    "#Z_test.resize([Z_test.shape[0],Z_test.shape[1],Z_test.shape[2],1])\n",
    "Z_test_label = np.array([19,20,18,2,1,5,14,26,17,13])\n",
    "Z_test_label_onehot = ONEHOT_encode(Z_test_label,43)\n",
    "\n",
    "\n",
    "print(Z_test.shape)\n",
    "print(Z_test_label_onehot.shape)\n",
    "\n",
    "plt.figure(figsize=(1,1))\n",
    "plt.imshow(img4)"
   ]
  },
  {
   "cell_type": "raw",
   "metadata": {},
   "source": [
    "### Question 6\n",
    "\n",
    "_Choose five candidate images of traffic signs and provide them in the report. Are there any particular qualities of the image(s) that might make classification difficult? It could be helpful to plot the images in the notebook._\n",
    "\n"
   ]
  },
  {
   "cell_type": "markdown",
   "metadata": {},
   "source": [
    "**Answer:**"
   ]
  },
  {
   "cell_type": "code",
   "execution_count": 10,
   "metadata": {
    "collapsed": false
   },
   "outputs": [
    {
     "name": "stdout",
     "output_type": "stream",
     "text": [
      "Test Accuracy = 0.700\n",
      "Softmax Probablities = (10, 43)\n",
      "TopKV2(values=array([[ 1.,  0.,  0.],\n",
      "       [ 1.,  0.,  0.],\n",
      "       [ 1.,  0.,  0.],\n",
      "       [ 1.,  0.,  0.],\n",
      "       [ 1.,  0.,  0.],\n",
      "       [ 1.,  0.,  0.],\n",
      "       [ 1.,  0.,  0.],\n",
      "       [ 1.,  0.,  0.],\n",
      "       [ 1.,  0.,  0.],\n",
      "       [ 1.,  0.,  0.]], dtype=float32), indices=array([[19,  0,  1],\n",
      "       [20,  0,  1],\n",
      "       [18,  0,  1],\n",
      "       [ 2,  0,  1],\n",
      "       [ 6,  0,  1],\n",
      "       [ 5,  0,  1],\n",
      "       [17,  0,  1],\n",
      "       [18,  0,  1],\n",
      "       [17,  0,  1],\n",
      "       [13,  0,  1]], dtype=int32))\n"
     ]
    }
   ],
   "source": [
    "### Run the predictions here.\n",
    "### Feel free to use as many code cells as needed.\n",
    "with tf.Session() as sess:\n",
    "    saver.restore(sess, tf.train.latest_checkpoint('.'))\n",
    "\n",
    "    test_accuracy = evaluate(Z_test, Z_test_label_onehot)\n",
    "    softmaxProb = sess.run(Softmax_output, feed_dict={x: Z_test})\n",
    "    #TopK_output = sess.run(tf.nn.top_k(tf.constant(softmaxProb), k=3))\n",
    "    TopK_output = sess.run(tf.nn.top_k(softmaxProb, k=3))\n",
    "    \n",
    "    print(\"Test Accuracy = {:.3f}\".format(test_accuracy))\n",
    "    print(\"Softmax Probablities = {}\".format(softmaxProb.shape))\n",
    "    print(TopK_output)\n",
    "    # 19,20,18,2,1,5,14,26,17,13"
   ]
  },
  {
   "cell_type": "markdown",
   "metadata": {},
   "source": [
    "### Question 7\n",
    "\n",
    "_Is your model able to perform equally well on captured pictures when compared to testing on the dataset? The simplest way to do this check the accuracy of the predictions. For example, if the model predicted 1 out of 5 signs correctly, it's 20% accurate._\n",
    "\n",
    "_**NOTE:** You could check the accuracy manually by using `signnames.csv` (same directory). This file has a mapping from the class id (0-42) to the corresponding sign name. So, you could take the class id the model outputs, lookup the name in `signnames.csv` and see if it matches the sign from the image._\n"
   ]
  },
  {
   "cell_type": "markdown",
   "metadata": {},
   "source": [
    "**Answer:** My model is not performing as well as the validation set on the images downloaded from internet. I get 70% of accuracy for downloaded images while the accuracy of validation data is 90%. However, I believe with a much larger number of . I will keep working on it to improve the accuracy."
   ]
  },
  {
   "cell_type": "code",
   "execution_count": null,
   "metadata": {
    "collapsed": true
   },
   "outputs": [],
   "source": [
    "### Visualize the softmax probabilities here.\n",
    "### Feel free to use as many code cells as needed.\n",
    "    \n",
    "# I put the visulation code in last section\n"
   ]
  },
  {
   "cell_type": "markdown",
   "metadata": {},
   "source": [
    "### Question 8\n",
    "\n",
    "*Use the model's softmax probabilities to visualize the **certainty** of its predictions, [`tf.nn.top_k`](https://www.tensorflow.org/versions/r0.12/api_docs/python/nn.html#top_k) could prove helpful here. Which predictions is the model certain of? Uncertain? If the model was incorrect in its initial prediction, does the correct prediction appear in the top k? (k should be 5 at most)*\n",
    "\n",
    "`tf.nn.top_k` will return the values and indices (class ids) of the top k predictions. So if k=3, for each sign, it'll return the 3 largest probabilities (out of a possible 43) and the correspoding class ids.\n",
    "\n",
    "Take this numpy array as an example:\n",
    "\n",
    "```\n",
    "# (5, 6) array\n",
    "a = np.array([[ 0.24879643,  0.07032244,  0.12641572,  0.34763842,  0.07893497,\n",
    "         0.12789202],\n",
    "       [ 0.28086119,  0.27569815,  0.08594638,  0.0178669 ,  0.18063401,\n",
    "         0.15899337],\n",
    "       [ 0.26076848,  0.23664738,  0.08020603,  0.07001922,  0.1134371 ,\n",
    "         0.23892179],\n",
    "       [ 0.11943333,  0.29198961,  0.02605103,  0.26234032,  0.1351348 ,\n",
    "         0.16505091],\n",
    "       [ 0.09561176,  0.34396535,  0.0643941 ,  0.16240774,  0.24206137,\n",
    "         0.09155967]])\n",
    "```\n",
    "\n",
    "Running it through `sess.run(tf.nn.top_k(tf.constant(a), k=3))` produces:\n",
    "\n",
    "```\n",
    "TopKV2(values=array([[ 0.34763842,  0.24879643,  0.12789202],\n",
    "       [ 0.28086119,  0.27569815,  0.18063401],\n",
    "       [ 0.26076848,  0.23892179,  0.23664738],\n",
    "       [ 0.29198961,  0.26234032,  0.16505091],\n",
    "       [ 0.34396535,  0.24206137,  0.16240774]]), indices=array([[3, 0, 5],\n",
    "       [0, 1, 4],\n",
    "       [0, 5, 1],\n",
    "       [1, 3, 5],\n",
    "       [1, 4, 3]], dtype=int32))\n",
    "```\n",
    "\n",
    "Looking just at the first row we get `[ 0.34763842,  0.24879643,  0.12789202]`, you can confirm these are the 3 largest probabilities in `a`. You'll also notice `[3, 0, 5]` are the corresponding indices."
   ]
  },
  {
   "cell_type": "markdown",
   "metadata": {},
   "source": [
    "**Answer:** It seems my model is quite certain for all predications, but it did made mistakes. I have tried to change the hyper parameters, but couldn't achieve anywhere furthere. My guess of the problem is it can because of the understanding the traffic sign couldn't be different (due to the conventation of different areas), or more data is needed for better training."
   ]
  },
  {
   "cell_type": "markdown",
   "metadata": {},
   "source": [
    "> **Note**: Once you have completed all of the code implementations and successfully answered each question above, you may finalize your work by exporting the iPython Notebook as an HTML document. You can do this by using the menu above and navigating to  \\n\",\n",
    "    \"**File -> Download as -> HTML (.html)**. Include the finished document along with this notebook as your submission."
   ]
  },
  {
   "cell_type": "code",
   "execution_count": null,
   "metadata": {
    "collapsed": true
   },
   "outputs": [],
   "source": []
  }
 ],
 "metadata": {
  "anaconda-cloud": {},
  "kernelspec": {
   "display_name": "Python 3",
   "language": "python",
   "name": "python3"
  },
  "language_info": {
   "codemirror_mode": {
    "name": "ipython",
    "version": 3
   },
   "file_extension": ".py",
   "mimetype": "text/x-python",
   "name": "python",
   "nbconvert_exporter": "python",
   "pygments_lexer": "ipython3",
   "version": "3.5.2"
  },
  "widgets": {
   "state": {},
   "version": "1.1.2"
  }
 },
 "nbformat": 4,
 "nbformat_minor": 1
}
